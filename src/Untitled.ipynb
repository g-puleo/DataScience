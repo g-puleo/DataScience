{
 "cells": [
  {
   "cell_type": "code",
   "execution_count": 1,
   "id": "551f6077-7b81-4dbb-8eee-b5c0eb905f93",
   "metadata": {},
   "outputs": [],
   "source": [
    "import pandas as pd\n",
    "import numpy as np"
   ]
  },
  {
   "cell_type": "code",
   "execution_count": 4,
   "id": "03e58e7a-e381-4144-a712-225c35e081cc",
   "metadata": {},
   "outputs": [],
   "source": [
    "column_names = ['rischi', 'p_rischio', 'punteggio_rischio', 'benefici'\n",
    "                , 'punteggio_beneficio', 'malefici', 'punteggio_maleficio', 'bonus', 'punti_bonus']\n",
    "p_gloria_eterna = (1-0.4)*(1-0.3)*(1-0.2)"
   ]
  },
  {
   "cell_type": "code",
   "execution_count": 12,
   "id": "0da29f50-5dba-4a66-a742-4545c2ef6a68",
   "metadata": {},
   "outputs": [],
   "source": [
    "colonneA = [ ['male_struttura', 'male_nucleare', 'male_DS'], [0.4, 0.3, 0.2], [-50, -30, -5], \n",
    "          ['no_stress_erasmus', 'risparmio_volo'],[15, 10] ,['so_male_le_cose', 'grande stress ora'], [-10, -20],\n",
    "            ['gloria eterna',], [p_gloria_eterna*100,]]\n",
    "\n",
    "dictA= dict(zip(column_names, colonneA ))"
   ]
  },
  {
   "cell_type": "code",
   "execution_count": null,
   "id": "3c2638c5-b611-422f-aa2e-6f9ae6aabcb9",
   "metadata": {},
   "outputs": [],
   "source": [
    "def pad_dict_list(dict_list, padel):\n",
    "    #thanks StackExchange\n",
    "    lmax = 0\n",
    "    for lname in dict_list.keys():\n",
    "        lmax = max(lmax, len(dict_list[lname]))\n",
    "    for lname in dict_list.keys():\n",
    "        ll = len(dict_list[lname])\n",
    "        if  ll < lmax:\n",
    "            dict_list[lname] += [padel] * (lmax - ll)\n",
    "    return dict_list\n",
    "\n",
    "pad_dict_list(dictA, 'NaN')"
   ]
  },
  {
   "cell_type": "code",
   "execution_count": 20,
   "id": "4a88f415-e5c8-4917-a123-a74ff38e95b8",
   "metadata": {},
   "outputs": [
    {
     "data": {
      "text/html": [
       "<div>\n",
       "<style scoped>\n",
       "    .dataframe tbody tr th:only-of-type {\n",
       "        vertical-align: middle;\n",
       "    }\n",
       "\n",
       "    .dataframe tbody tr th {\n",
       "        vertical-align: top;\n",
       "    }\n",
       "\n",
       "    .dataframe thead th {\n",
       "        text-align: right;\n",
       "    }\n",
       "</style>\n",
       "<table border=\"1\" class=\"dataframe\">\n",
       "  <thead>\n",
       "    <tr style=\"text-align: right;\">\n",
       "      <th></th>\n",
       "      <th>rischi</th>\n",
       "      <th>p_rischio</th>\n",
       "      <th>punteggio_rischio</th>\n",
       "      <th>benefici</th>\n",
       "      <th>punteggio_beneficio</th>\n",
       "      <th>malefici</th>\n",
       "      <th>punteggio_maleficio</th>\n",
       "      <th>bonus</th>\n",
       "      <th>punti_bonus</th>\n",
       "    </tr>\n",
       "  </thead>\n",
       "  <tbody>\n",
       "    <tr>\n",
       "      <th>0</th>\n",
       "      <td>male_struttura</td>\n",
       "      <td>0.4</td>\n",
       "      <td>-50</td>\n",
       "      <td>no_stress_erasmus</td>\n",
       "      <td>15</td>\n",
       "      <td>so_male_le_cose</td>\n",
       "      <td>-10</td>\n",
       "      <td>gloria eterna</td>\n",
       "      <td>33.6</td>\n",
       "    </tr>\n",
       "    <tr>\n",
       "      <th>1</th>\n",
       "      <td>male_nucleare</td>\n",
       "      <td>0.3</td>\n",
       "      <td>-30</td>\n",
       "      <td>risparmio_volo</td>\n",
       "      <td>10</td>\n",
       "      <td>grande stress ora</td>\n",
       "      <td>-20</td>\n",
       "      <td>NaN</td>\n",
       "      <td>NaN</td>\n",
       "    </tr>\n",
       "    <tr>\n",
       "      <th>2</th>\n",
       "      <td>male_DS</td>\n",
       "      <td>0.2</td>\n",
       "      <td>-5</td>\n",
       "      <td>NaN</td>\n",
       "      <td>NaN</td>\n",
       "      <td>NaN</td>\n",
       "      <td>NaN</td>\n",
       "      <td>NaN</td>\n",
       "      <td>NaN</td>\n",
       "    </tr>\n",
       "  </tbody>\n",
       "</table>\n",
       "</div>"
      ],
      "text/plain": [
       "           rischi  p_rischio  punteggio_rischio           benefici  \\\n",
       "0  male_struttura        0.4                -50  no_stress_erasmus   \n",
       "1   male_nucleare        0.3                -30     risparmio_volo   \n",
       "2         male_DS        0.2                 -5                NaN   \n",
       "\n",
       "  punteggio_beneficio           malefici punteggio_maleficio          bonus  \\\n",
       "0                  15    so_male_le_cose                 -10  gloria eterna   \n",
       "1                  10  grande stress ora                 -20            NaN   \n",
       "2                 NaN                NaN                 NaN            NaN   \n",
       "\n",
       "  punti_bonus  \n",
       "0        33.6  \n",
       "1         NaN  \n",
       "2         NaN  "
      ]
     },
     "execution_count": 20,
     "metadata": {},
     "output_type": "execute_result"
    }
   ],
   "source": [
    "pros_and_consA = pd.DataFrame(dictA)"
   ]
  },
  {
   "cell_type": "code",
   "execution_count": 24,
   "id": "5b9acb62-2f57-4b66-93d4-86b376660bd0",
   "metadata": {},
   "outputs": [
    {
     "data": {
      "text/plain": [
       "{'rischi': ['male_struttura', 'male_nucleare', 'male_DS'],\n",
       " 'p_rischio': [0.05, 0.05, 0.05],\n",
       " 'punteggio_rischio': [-50, -30, -5],\n",
       " 'benefici': ['so_meglio_le_cose', 'meno stress ora', 'NaN'],\n",
       " 'punteggio_beneficio': [10, 20, 'NaN'],\n",
       " 'malefici': ['più_stress_erasmus', 'spesa_volo', 'NaN'],\n",
       " 'punteggio_maleficio': [-15, -10, 'NaN']}"
      ]
     },
     "execution_count": 24,
     "metadata": {},
     "output_type": "execute_result"
    }
   ],
   "source": [
    "colonneB = [ ['male_struttura', 'male_nucleare', 'male_DS'], [0.05, 0.05, 0.05], [-50, -30, -5], \n",
    "         ['so_meglio_le_cose', 'meno stress ora'], [+10, +20], ['più_stress_erasmus', 'spesa_volo'],[-15, -10] ]\n",
    "\n",
    "dictB = dict(zip(column_names[0:-2], colonneB))\n",
    "pad_dict_list(dictB, 'NaN')\n"
   ]
  },
  {
   "cell_type": "code",
   "execution_count": 25,
   "id": "1db880bd-c08b-4536-af30-3e16db4a5f27",
   "metadata": {},
   "outputs": [],
   "source": [
    "pros_and_consB = pd.DataFrame(dictB)"
   ]
  },
  {
   "cell_type": "code",
   "execution_count": 26,
   "id": "1a5a473b-c6d9-4754-a8e9-c03e5669a01a",
   "metadata": {},
   "outputs": [
    {
     "data": {
      "text/html": [
       "<div>\n",
       "<style scoped>\n",
       "    .dataframe tbody tr th:only-of-type {\n",
       "        vertical-align: middle;\n",
       "    }\n",
       "\n",
       "    .dataframe tbody tr th {\n",
       "        vertical-align: top;\n",
       "    }\n",
       "\n",
       "    .dataframe thead th {\n",
       "        text-align: right;\n",
       "    }\n",
       "</style>\n",
       "<table border=\"1\" class=\"dataframe\">\n",
       "  <thead>\n",
       "    <tr style=\"text-align: right;\">\n",
       "      <th></th>\n",
       "      <th>rischi</th>\n",
       "      <th>p_rischio</th>\n",
       "      <th>punteggio_rischio</th>\n",
       "      <th>benefici</th>\n",
       "      <th>punteggio_beneficio</th>\n",
       "      <th>malefici</th>\n",
       "      <th>punteggio_maleficio</th>\n",
       "    </tr>\n",
       "  </thead>\n",
       "  <tbody>\n",
       "    <tr>\n",
       "      <th>0</th>\n",
       "      <td>male_struttura</td>\n",
       "      <td>0.05</td>\n",
       "      <td>-50</td>\n",
       "      <td>so_meglio_le_cose</td>\n",
       "      <td>10</td>\n",
       "      <td>più_stress_erasmus</td>\n",
       "      <td>-15</td>\n",
       "    </tr>\n",
       "    <tr>\n",
       "      <th>1</th>\n",
       "      <td>male_nucleare</td>\n",
       "      <td>0.05</td>\n",
       "      <td>-30</td>\n",
       "      <td>meno stress ora</td>\n",
       "      <td>20</td>\n",
       "      <td>spesa_volo</td>\n",
       "      <td>-10</td>\n",
       "    </tr>\n",
       "    <tr>\n",
       "      <th>2</th>\n",
       "      <td>male_DS</td>\n",
       "      <td>0.05</td>\n",
       "      <td>-5</td>\n",
       "      <td>NaN</td>\n",
       "      <td>NaN</td>\n",
       "      <td>NaN</td>\n",
       "      <td>NaN</td>\n",
       "    </tr>\n",
       "  </tbody>\n",
       "</table>\n",
       "</div>"
      ],
      "text/plain": [
       "           rischi  p_rischio  punteggio_rischio           benefici  \\\n",
       "0  male_struttura       0.05                -50  so_meglio_le_cose   \n",
       "1   male_nucleare       0.05                -30    meno stress ora   \n",
       "2         male_DS       0.05                 -5                NaN   \n",
       "\n",
       "  punteggio_beneficio            malefici punteggio_maleficio  \n",
       "0                  10  più_stress_erasmus                 -15  \n",
       "1                  20          spesa_volo                 -10  \n",
       "2                 NaN                 NaN                 NaN  "
      ]
     },
     "execution_count": 26,
     "metadata": {},
     "output_type": "execute_result"
    }
   ],
   "source": [
    "pros_and_consB"
   ]
  },
  {
   "cell_type": "code",
   "execution_count": null,
   "id": "de07a857-d862-4333-ac41-a4f8aed86457",
   "metadata": {},
   "outputs": [],
   "source": []
  }
 ],
 "metadata": {
  "kernelspec": {
   "display_name": "Python [conda env:DS_2022]",
   "language": "python",
   "name": "conda-env-DS_2022-py"
  },
  "language_info": {
   "codemirror_mode": {
    "name": "ipython",
    "version": 3
   },
   "file_extension": ".py",
   "mimetype": "text/x-python",
   "name": "python",
   "nbconvert_exporter": "python",
   "pygments_lexer": "ipython3",
   "version": "3.8.13"
  }
 },
 "nbformat": 4,
 "nbformat_minor": 5
}
