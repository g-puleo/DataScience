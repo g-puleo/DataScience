{
 "cells": [
  {
   "cell_type": "code",
   "execution_count": 3,
   "id": "3224d935-061a-4ccd-8b4c-9945753f50ec",
   "metadata": {},
   "outputs": [],
   "source": [
    "import pandas as pd\n",
    "import geopandas as gpd\n",
    "from datetime import time, timedelta, datetime, date \n",
    "import contextily as cx\n",
    "import numpy as np\n",
    "import json\n",
    "import numpy as np\n",
    "from pathlib  import Path\n",
    "import matplotlib.pyplot as plt\n",
    "from shapely.geometry import Polygon, Point\n",
    "data_path = Path('.././data/raw')\n",
    "data_path2 = Path('.././data/external')\n",
    "files = {'grid':'trentino-grid.geojson',\n",
    "         'adm_reg':'administrative_regions_Trentino.json',        \n",
    "         'NOV-DATA':'SET-nov-2013.csv',\n",
    "         'DEC-DATA':'SET-dec-2013.csv',\n",
    "         'SET-lines':'line.csv',\n",
    "         'inquinamento' :  'APPA_inquinamento_aria_Nov_Dec_2013.csv',\n",
    "         'meteo': 'meteotrentino-weather-station-data.json'\n",
    "        }"
   ]
  },
  {
   "cell_type": "code",
   "execution_count": 5,
   "id": "03708b8c-d1c4-4a8f-a90d-f816b7caf368",
   "metadata": {},
   "outputs": [],
   "source": [
    "with open(data_path / files['meteo'] ) as file: \n",
    "    dati_meteo_json = json.load(file)"
   ]
  },
  {
   "cell_type": "code",
   "execution_count": null,
   "id": "64c5171f-7bec-419c-aad2-c12dbb958fa1",
   "metadata": {},
   "outputs": [],
   "source": []
  }
 ],
 "metadata": {
  "kernelspec": {
   "display_name": "Python 3 (ipykernel)",
   "language": "python",
   "name": "python3"
  },
  "language_info": {
   "codemirror_mode": {
    "name": "ipython",
    "version": 3
   },
   "file_extension": ".py",
   "mimetype": "text/x-python",
   "name": "python",
   "nbconvert_exporter": "python",
   "pygments_lexer": "ipython3",
   "version": "3.10.5"
  }
 },
 "nbformat": 4,
 "nbformat_minor": 5
}
